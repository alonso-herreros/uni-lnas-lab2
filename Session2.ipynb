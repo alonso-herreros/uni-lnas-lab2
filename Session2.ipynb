{
 "cells": [
  {
   "cell_type": "markdown",
   "metadata": {},
   "source": [
    "# LNAS Lab 2 - Session 2"
   ]
  },
  {
   "cell_type": "markdown",
   "metadata": {},
   "source": [
    "## 0. Setup"
   ]
  },
  {
   "cell_type": "code",
   "execution_count": 1,
   "metadata": {},
   "outputs": [],
   "source": [
    "from numpy import *\n",
    "from matplotlib import pyplot as plt"
   ]
  },
  {
   "cell_type": "code",
   "execution_count": 2,
   "metadata": {},
   "outputs": [],
   "source": [
    "# Set up pyplot\n",
    "plt.rcParams['text.usetex'] = True"
   ]
  },
  {
   "cell_type": "code",
   "execution_count": 3,
   "metadata": {},
   "outputs": [],
   "source": [
    "# Custom plots\n",
    "\n",
    "def custom_plot(\n",
    "        title=\"Plot\", xlabel=\"x\", ylabel=\"y\", xlim=None, ylim=None,\n",
    "        xticks=None, xlabels=None, yticks=None, ylabels=None, **kwargs\n",
    "    ):\n",
    "    fig = plt.figure()\n",
    "    ax = fig.subplots()\n",
    "\n",
    "    ax.set_title(title)\n",
    "    ax.set_xlabel(xlabel)\n",
    "    ax.set_ylabel(ylabel)\n",
    "    if ylim: ax.set_ylim(*ylim)\n",
    "    if xlim: ax.set_xlim(*xlim)\n",
    "\n",
    "    if xticks: ax.set_xticks(xticks)\n",
    "    if xlabels: ax.set_xticklabels(xlabels)\n",
    "    if yticks: ax.set_yticks(yticks)\n",
    "    if ylabels: ax.set_yticklabels(ylabels)\n",
    "\n",
    "    ax.grid(True)\n",
    "    ax.spines[['top', 'right']].set_alpha(0.3)\n",
    "\n",
    "    return fig, ax"
   ]
  },
  {
   "cell_type": "code",
   "execution_count": 4,
   "metadata": {},
   "outputs": [],
   "source": [
    "# Custom functions\n",
    "\n",
    "def dB(x):\n",
    "    return 10 * log10(abs(x))\n",
    "\n",
    "def dB2(x):\n",
    "    return 20 * log10(abs(x))\n",
    "\n",
    "def multip(x):\n",
    "    if x > 1: return x, \"\"\n",
    "    if x > 1e-3: return x*1e3, \"m\"\n",
    "    if x > 1e-6: return x*1e6, \"μ\"\n",
    "    if x > 1e-9: return x*1e9, \"n\"\n",
    "    if x > 1e-12: return x*1e12, \"p\"\n",
    "    if x > 1e-15: return x*1e12, \"f\"\n",
    "    return x, \"\""
   ]
  },
  {
   "cell_type": "code",
   "execution_count": 5,
   "metadata": {},
   "outputs": [],
   "source": [
    "# Circuit elements\n",
    "\n",
    "R1 = 50\n",
    "R2 = 25.2"
   ]
  },
  {
   "cell_type": "markdown",
   "metadata": {},
   "source": [
    "## 2.2. Design and characterization of a bandpass filter"
   ]
  },
  {
   "cell_type": "code",
   "execution_count": 9,
   "metadata": {},
   "outputs": [],
   "source": [
    "Vin = 1\n",
    "Pmax = 1/(8*R1)"
   ]
  },
  {
   "cell_type": "code",
   "execution_count": 10,
   "metadata": {},
   "outputs": [],
   "source": [
    "# Measured power levels\n",
    "\n",
    "P_meas = {\n",
    "    100:  2.38398e-12,\n",
    "    200:  871.71827e-12,\n",
    "    400:  1.22227e-6,\n",
    "    600:  2.22255e-3,\n",
    "    1000: 2.35871e-3,\n",
    "    1400: 2.2149e-3,\n",
    "    1600: 120.10437e-6,\n",
    "    1800: 12.25607e-6,\n",
    "    1900: 5.12048e-6\n",
    "}"
   ]
  },
  {
   "cell_type": "code",
   "execution_count": 11,
   "metadata": {},
   "outputs": [
    {
     "name": "stdout",
     "output_type": "stream",
     "text": [
      "{100: 90.20637401029205, 200: 64.57563860383934, 400: 33.10772856318841, 600: 0.5108846873514575, 1000: 0.2526546038577979, 1400: 0.5258588552991018, 1600: 13.18381199167895, 1800: 23.09588775922762, 1900: 26.8862933449693}\n",
      "| $f$ (Hz) | $P (W)$ | $α$ (dB) |\n",
      "| :---: | :---: | :---: |\n",
      "| $100.0$ | $2.384 \\text{ pW}$ | $90.21$ |\n",
      "| $200.0$ | $871.718 \\text{ pW}$ | $64.58$ |\n",
      "| $400.0$ | $1.222 \\text{ μW}$ | $33.11$ |\n",
      "| $600.0$ | $2.223 \\text{ mW}$ | $0.51$ |\n",
      "| $1000.0$ | $2.359 \\text{ mW}$ | $0.25$ |\n",
      "| $1400.0$ | $2.215 \\text{ mW}$ | $0.53$ |\n",
      "| $1600.0$ | $120.104 \\text{ μW}$ | $13.18$ |\n",
      "| $1800.0$ | $12.256 \\text{ μW}$ | $23.10$ |\n",
      "| $1900.0$ | $5.120 \\text{ μW}$ | $26.89$ |\n"
     ]
    }
   ],
   "source": [
    "# Attenuation levels\n",
    "\n",
    "α_meas = {f: -dB(P/Pmax) for f, P in P_meas.items()}\n",
    "print(α_meas)\n",
    "print(\n",
    "    '| $f$ (Hz) | $P (W)$ | $α$ (dB) |\\n' + \n",
    "    '| :---: | :---: | :---: |\\n' + \n",
    "    '\\n'.join([f'| ${f:.1f}$ | ${multip(P)[0]:.3f} \\\\text{{ {multip(P)[1]}W}}$ | ${α:.2f}$ |'\n",
    "    for f, P, α in zip(P_meas.keys(), P_meas.values(), α_meas.values())])\n",
    ")\n",
    "x = zip(P_meas.keys(), P_meas.values(), α_meas.values())"
   ]
  },
  {
   "cell_type": "code",
   "execution_count": 12,
   "metadata": {},
   "outputs": [],
   "source": [
    "# Measured voltage levels\n",
    "\n",
    "V_meas = {\n",
    "    100:  10.96224e-6,\n",
    "    200:  209.64496e-6,\n",
    "    400:  7.85417e-3,\n",
    "    600:  334.72244e-3,\n",
    "    1000: 344.90738e-3,\n",
    "    1400: 333.90738e-3,\n",
    "    1600: 77.76107e-3,\n",
    "    1800: 24.84448e-3,\n",
    "    1900: 16.08629e-3\n",
    "}"
   ]
  },
  {
   "cell_type": "code",
   "execution_count": 19,
   "metadata": {},
   "outputs": [
    {
     "name": "stdout",
     "output_type": "stream",
     "text": [
      "| $f$ (Hz) | $V (V)$ | $H$ (V/V) |\n",
      "| :---: | :---: | :---: |\n",
      "| $100.0$ | $10.962 \\text{ μV}$ | $0.0000$ |\n",
      "| $200.0$ | $209.645 \\text{ μV}$ | $0.0006$ |\n",
      "| $400.0$ | $7.854 \\text{ mV}$ | $0.02$ |\n",
      "| $600.0$ | $334.722 \\text{ mV}$ | $0.94$ |\n",
      "| $1000.0$ | $344.907 \\text{ mV}$ | $0.97$ |\n",
      "| $1400.0$ | $333.907 \\text{ mV}$ | $0.94$ |\n",
      "| $1600.0$ | $77.761 \\text{ mV}$ | $0.22$ |\n",
      "| $1800.0$ | $24.844 \\text{ mV}$ | $0.07$ |\n",
      "| $1900.0$ | $16.086 \\text{ mV}$ | $0.05$ |\n"
     ]
    }
   ],
   "source": [
    "# Amplitude response levels\n",
    "\n",
    "k = 2*sqrt(R1/R2)\n",
    "\n",
    "H_meas = {f: k*V/Vin for f, V in V_meas.items()}\n",
    "print(\n",
    "    '| $f$ (Hz) | $V (V)$ | $H$ (V/V) |\\n' + \n",
    "    '| :---: | :---: | :---: |\\n' + \n",
    "    '\\n'.join([f'| ${f:.1f}$ | ${multip(V)[0]:.3f} \\\\text{{ {multip(V)[1]}V}}$ | ${H:{\".2f\" if H>1e-2 else \".4f\"}}$ |'\n",
    "    for f, V, H in zip(V_meas.keys(), V_meas.values(), H_meas.values())])\n",
    ")\n",
    "x = zip(V_meas.keys(), V_meas.values(), H_meas.values())"
   ]
  }
 ],
 "metadata": {
  "kernelspec": {
   "display_name": "Python 3",
   "language": "python",
   "name": "python3"
  },
  "language_info": {
   "codemirror_mode": {
    "name": "ipython",
    "version": 3
   },
   "file_extension": ".py",
   "mimetype": "text/x-python",
   "name": "python",
   "nbconvert_exporter": "python",
   "pygments_lexer": "ipython3",
   "version": "3.10.10"
  }
 },
 "nbformat": 4,
 "nbformat_minor": 2
}
